{
 "cells": [
  {
   "cell_type": "markdown",
   "id": "41bfea97",
   "metadata": {},
   "source": [
    "## Import libraries"
   ]
  },
  {
   "cell_type": "code",
   "execution_count": 1,
   "id": "d6469827",
   "metadata": {},
   "outputs": [],
   "source": [
    "from bs4 import BeautifulSoup\n",
    "import requests"
   ]
  },
  {
   "cell_type": "markdown",
   "id": "6cd8999e",
   "metadata": {},
   "source": [
    "## A function which gets website code as a argument and returns a result"
   ]
  },
  {
   "cell_type": "code",
   "execution_count": 2,
   "id": "34081e78",
   "metadata": {},
   "outputs": [],
   "source": [
    "def get_clinic_name(clinic_id):\n",
    "    url = f'https://{clinic_id}.portal.athenahealth.com'\n",
    "    response = requests.get(url)\n",
    "    html = response.text\n",
    "    soup = BeautifulSoup(html, 'html.parser')\n",
    "    clinic_name = soup.find_all(\"h1\")[-1].text.strip()\n",
    "    return clinic_name"
   ]
  },
  {
   "cell_type": "code",
   "execution_count": 3,
   "id": "e3adbe48",
   "metadata": {},
   "outputs": [],
   "source": [
    "start = 12695\n",
    "end = 12710"
   ]
  },
  {
   "cell_type": "markdown",
   "id": "9a58c396",
   "metadata": {},
   "source": [
    "## A loop where we check store data in lists and also check and skip irrelevent info"
   ]
  },
  {
   "cell_type": "code",
   "execution_count": 4,
   "id": "51066451",
   "metadata": {},
   "outputs": [
    {
     "name": "stdout",
     "output_type": "stream",
     "text": [
      "12695\n",
      "12696\n",
      "12697\n",
      "12698\n",
      "12699\n",
      "12700\n",
      "12701\n",
      "12702\n",
      "12703\n",
      "12704\n",
      "12705\n",
      "12706\n",
      "12707\n",
      "12708\n",
      "12709\n",
      "12710\n"
     ]
    }
   ],
   "source": [
    "\n",
    "main_list = []\n",
    "\n",
    "for clinic_id in range(start,end+1):\n",
    "    data_dict = {}\n",
    "    data_dict[ 'clinic_id' ] = clinic_id\n",
    "    data_dict['clinic_name']= get_clinic_name(clinic_id)\n",
    "    if data_dict['clinic_name'] != 'Payment Confirmation' and data_dict['clinic_name'] != \"Sorry, we can't find that practice. Make sure you typed the right address.\":\n",
    "        main_list.append(data_dict)\n",
    "    print(clinic_id)"
   ]
  },
  {
   "cell_type": "code",
   "execution_count": 5,
   "id": "2f5240a7",
   "metadata": {
    "scrolled": true
   },
   "outputs": [
    {
     "data": {
      "text/plain": [
       "[{'clinic_id': 12695, 'clinic_name': 'Dr. Richard Handelsman'},\n",
       " {'clinic_id': 12696, 'clinic_name': \"Women's CenterforIntegrative Health\"},\n",
       " {'clinic_id': 12697, 'clinic_name': 'Eastern Urological Associates'},\n",
       " {'clinic_id': 12702, 'clinic_name': 'Chand Rohatgi MD'},\n",
       " {'clinic_id': 12703, 'clinic_name': ''},\n",
       " {'clinic_id': 12704, 'clinic_name': 'Volunteer Healthcare Clinic'},\n",
       " {'clinic_id': 12705, 'clinic_name': 'Christ Clinic'},\n",
       " {'clinic_id': 12706, 'clinic_name': 'Olga Joukovski, MD, PA'},\n",
       " {'clinic_id': 12707, 'clinic_name': 'Restore Health Clinic'},\n",
       " {'clinic_id': 12708,\n",
       "  'clinic_name': 'STUART L. SILVERMAN, M.D., A MEDICAL CORPORATION'},\n",
       " {'clinic_id': 12709, 'clinic_name': 'George E. Weems Clinics'}]"
      ]
     },
     "execution_count": 5,
     "metadata": {},
     "output_type": "execute_result"
    }
   ],
   "source": [
    "main_list "
   ]
  },
  {
   "cell_type": "code",
   "execution_count": 6,
   "id": "88412658",
   "metadata": {},
   "outputs": [],
   "source": [
    "import pandas as pd\n"
   ]
  },
  {
   "cell_type": "code",
   "execution_count": 7,
   "id": "11e346c0",
   "metadata": {},
   "outputs": [
    {
     "data": {
      "text/html": [
       "<div>\n",
       "<style scoped>\n",
       "    .dataframe tbody tr th:only-of-type {\n",
       "        vertical-align: middle;\n",
       "    }\n",
       "\n",
       "    .dataframe tbody tr th {\n",
       "        vertical-align: top;\n",
       "    }\n",
       "\n",
       "    .dataframe thead th {\n",
       "        text-align: right;\n",
       "    }\n",
       "</style>\n",
       "<table border=\"1\" class=\"dataframe\">\n",
       "  <thead>\n",
       "    <tr style=\"text-align: right;\">\n",
       "      <th></th>\n",
       "      <th>clinic_id</th>\n",
       "      <th>clinic_name</th>\n",
       "    </tr>\n",
       "  </thead>\n",
       "  <tbody>\n",
       "    <tr>\n",
       "      <th>0</th>\n",
       "      <td>12695</td>\n",
       "      <td>Dr. Richard Handelsman</td>\n",
       "    </tr>\n",
       "    <tr>\n",
       "      <th>1</th>\n",
       "      <td>12696</td>\n",
       "      <td>Women's CenterforIntegrative Health</td>\n",
       "    </tr>\n",
       "    <tr>\n",
       "      <th>2</th>\n",
       "      <td>12697</td>\n",
       "      <td>Eastern Urological Associates</td>\n",
       "    </tr>\n",
       "    <tr>\n",
       "      <th>3</th>\n",
       "      <td>12702</td>\n",
       "      <td>Chand Rohatgi MD</td>\n",
       "    </tr>\n",
       "    <tr>\n",
       "      <th>4</th>\n",
       "      <td>12703</td>\n",
       "      <td></td>\n",
       "    </tr>\n",
       "    <tr>\n",
       "      <th>5</th>\n",
       "      <td>12704</td>\n",
       "      <td>Volunteer Healthcare Clinic</td>\n",
       "    </tr>\n",
       "    <tr>\n",
       "      <th>6</th>\n",
       "      <td>12705</td>\n",
       "      <td>Christ Clinic</td>\n",
       "    </tr>\n",
       "    <tr>\n",
       "      <th>7</th>\n",
       "      <td>12706</td>\n",
       "      <td>Olga Joukovski, MD, PA</td>\n",
       "    </tr>\n",
       "    <tr>\n",
       "      <th>8</th>\n",
       "      <td>12707</td>\n",
       "      <td>Restore Health Clinic</td>\n",
       "    </tr>\n",
       "    <tr>\n",
       "      <th>9</th>\n",
       "      <td>12708</td>\n",
       "      <td>STUART L. SILVERMAN, M.D., A MEDICAL CORPORATION</td>\n",
       "    </tr>\n",
       "    <tr>\n",
       "      <th>10</th>\n",
       "      <td>12709</td>\n",
       "      <td>George E. Weems Clinics</td>\n",
       "    </tr>\n",
       "  </tbody>\n",
       "</table>\n",
       "</div>"
      ],
      "text/plain": [
       "    clinic_id                                       clinic_name\n",
       "0       12695                            Dr. Richard Handelsman\n",
       "1       12696               Women's CenterforIntegrative Health\n",
       "2       12697                     Eastern Urological Associates\n",
       "3       12702                                  Chand Rohatgi MD\n",
       "4       12703                                                  \n",
       "5       12704                       Volunteer Healthcare Clinic\n",
       "6       12705                                     Christ Clinic\n",
       "7       12706                            Olga Joukovski, MD, PA\n",
       "8       12707                             Restore Health Clinic\n",
       "9       12708  STUART L. SILVERMAN, M.D., A MEDICAL CORPORATION\n",
       "10      12709                           George E. Weems Clinics"
      ]
     },
     "execution_count": 7,
     "metadata": {},
     "output_type": "execute_result"
    }
   ],
   "source": [
    "df =pd.DataFrame(main_list)\n",
    "df"
   ]
  },
  {
   "cell_type": "markdown",
   "id": "3b99f428",
   "metadata": {},
   "source": [
    "## Saving the scrapped data in CSV file"
   ]
  },
  {
   "cell_type": "code",
   "execution_count": 8,
   "id": "c52f5d7d",
   "metadata": {},
   "outputs": [],
   "source": [
    "df.to_csv('clinic_name.csv', index= False)"
   ]
  },
  {
   "cell_type": "code",
   "execution_count": null,
   "id": "9fa780a7",
   "metadata": {},
   "outputs": [],
   "source": []
  }
 ],
 "metadata": {
  "kernelspec": {
   "display_name": "Python 3",
   "language": "python",
   "name": "python3"
  },
  "language_info": {
   "codemirror_mode": {
    "name": "ipython",
    "version": 3
   },
   "file_extension": ".py",
   "mimetype": "text/x-python",
   "name": "python",
   "nbconvert_exporter": "python",
   "pygments_lexer": "ipython3",
   "version": "3.8.8"
  }
 },
 "nbformat": 4,
 "nbformat_minor": 5
}
